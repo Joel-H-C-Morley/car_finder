{
  "nbformat": 4,
  "nbformat_minor": 0,
  "metadata": {
    "colab": {
      "provenance": [],
      "authorship_tag": "ABX9TyPkjnsGlbJiiD31X2U6GLW6",
      "include_colab_link": true
    },
    "kernelspec": {
      "name": "python3",
      "display_name": "Python 3"
    },
    "language_info": {
      "name": "python"
    }
  },
  "cells": [
    {
      "cell_type": "markdown",
      "metadata": {
        "id": "view-in-github",
        "colab_type": "text"
      },
      "source": [
        "<a href=\"https://colab.research.google.com/github/Joel-H-C-Morley/car_finder/blob/main/Car_Finder.ipynb\" target=\"_parent\"><img src=\"https://colab.research.google.com/assets/colab-badge.svg\" alt=\"Open In Colab\"/></a>"
      ]
    },
    {
      "cell_type": "code",
      "source": [
        "## Requests is the default library for asking python to talk to the web\n",
        "import numpy as np\n",
        "import requests\n",
        "## PPrint is 'Pretty Print' Which lets us print less offensive JSON\n",
        "from pprint import pprint\n",
        "\n",
        "#\n",
        "url = 'https://uk1.ukvehicledata.co.uk/api/datapackage/PostcodeLookup?v=2&api_nullitems=1&auth_apikey=457db507-dabb-4117-bcd2-c857c366f8c3&key_VRM=km12akk'\n",
        "\n",
        "#\n",
        "response = requests.get(url)\n",
        "print(response)"
      ],
      "metadata": {
        "colab": {
          "base_uri": "https://localhost:8080/"
        },
        "id": "kG0iyH7PPEV2",
        "outputId": "a661721e-e168-4253-d292-06e0af2c74d2"
      },
      "execution_count": null,
      "outputs": [
        {
          "output_type": "stream",
          "name": "stdout",
          "text": [
            "<Response [200]>\n"
          ]
        }
      ]
    },
    {
      "cell_type": "code",
      "source": [
        "import numpy as np\n",
        "import requests\n",
        "import string\n",
        "import time\n",
        "\n",
        "alphabet = list(string.ascii_uppercase)\n",
        "make_total = 0\n",
        "check_total = 0\n",
        "time0 = time.perf_counter()\n",
        "car_info_list = []\n",
        "lett_scan = [0,0,0,0,0,0,0]\n",
        "non_nums = 0\n",
        "brk = 0\n",
        "no_A = 0\n",
        "\n",
        "# Set Variables\n",
        "ApiKey = \"457db507-dabb-4117-bcd2-c857c366f8c3\";\n",
        "DataPackage = \"VehicleData\";\n",
        "ResponseJSON = \"\";\n",
        "make = 'VAUXHALL'\n",
        "\n",
        "# Create payload dictionary\n",
        "Payload = {\n",
        "      \"v\" : 2, # Package version\n",
        "      \"api_nullitems\" : 1, # Return null items\n",
        "      \"key_vrm\" : '', # Vehicle registration mark\n",
        "      \"auth_apikey\" : ApiKey # Set the API Key\n",
        "      };\n",
        "\n",
        "num_plate = 'YL*5ANJ'\n",
        "\n",
        "for key, char in enumerate(list(num_plate)):\n",
        "  if char == '*':\n",
        "    lett_scan[key] = alphabet\n",
        "  else:\n",
        "    lett_scan[key] = char\n",
        "\n",
        "while brk == 0: \n",
        "  for lett1 in lett_scan[0]:\n",
        "    for lett2 in lett_scan[1]:\n",
        "      for num1 in [0,1,5,6]:  \n",
        "        for num2 in range(1,10):\n",
        "          for lett3 in lett_scan[4]:\n",
        "            for lett4 in lett_scan[5]:\n",
        "              for lett5 in lett_scan[6]:\n",
        "\n",
        "                VRM = lett1+lett2+str(num1)+str(num2)+lett3+lett4+lett5;\n",
        "                Payload['key_vrm']=VRM\n",
        "\n",
        "                # Create GET Request (Include payload & headers)\n",
        "                r = requests.get('https://uk1.ukvehicledata.co.uk/api/datapackage/{}'.format(DataPackage), params = Payload)\n",
        "                check_total += 1\n",
        "                try:        \n",
        "                    car = r.json()\n",
        "                    car.keys()\n",
        "                    if car['Response']['DataItems']['ClassificationDetails']['Dvla'][\"Make\"] == make:\n",
        "                        make_total += 1\n",
        "                        model = car['Response']['DataItems']['ClassificationDetails']['Dvla']['Model']\n",
        "                        colour = car['Response']['DataItems']['VehicleRegistration']['Colour']\n",
        "                        reg = car['Response']['DataItems']['VehicleRegistration']['Vrm']\n",
        "                        car_info = [model, colour, reg]\n",
        "                        car_info_list.append(car_info)\n",
        "                    if r.status_code == 401:\n",
        "                        print(f'API request limit reached')\n",
        "                        brk = 1\n",
        "                    if car['Response']['StatusCode'] == 'SandboxLimitation':\n",
        "                        error = car['Response']['StatusMessage']\n",
        "                        no_A += 1\n",
        "                    if car['Response']['StatusCode'] == 'ItemNotFound':\n",
        "                        non_nums += 1\n",
        "                except:\n",
        "                    pass # -> Request was not successful\n",
        "                        #ErrorContent = 'Status Code: {}, Reason: {}'.format(r.status_code, r.reason)\n",
        "\n",
        "  time1 = time.perf_counter()\n",
        "  print(f'For number plate: {num_plate}')    \n",
        "  print(f'{check_total} cars were scanned, {make_total} {make}s were found, {non_nums} unregistered plates')\n",
        "  print(f'Search skipped {no_A} plates for not containing \\'A\\'')\n",
        "  print(f'Search took {round(time1-time0)}s')\n",
        "  brk =1"
      ],
      "metadata": {
        "colab": {
          "base_uri": "https://localhost:8080/"
        },
        "id": "HCVg5Ph9TbNP",
        "outputId": "2b4dc043-831d-486e-83f9-442db0321830"
      },
      "execution_count": null,
      "outputs": [
        {
          "output_type": "stream",
          "name": "stdout",
          "text": [
            "For number plate: YL*5ANJ\n",
            "36 cars were scanned, 0 VAUXHALLs were found, 0 unregistered plates\n",
            "Search skipped 0 plates for not containing 'A'\n",
            "Search took 21s\n"
          ]
        }
      ]
    },
    {
      "cell_type": "code",
      "source": [
        "car_info_list"
      ],
      "metadata": {
        "colab": {
          "base_uri": "https://localhost:8080/"
        },
        "id": "vbQc_iqGD-jF",
        "outputId": "0934be06-1fd1-4ae4-e1bb-3a8801abbd28"
      },
      "execution_count": null,
      "outputs": [
        {
          "output_type": "execute_result",
          "data": {
            "text/plain": [
              "[]"
            ]
          },
          "metadata": {},
          "execution_count": 26
        }
      ]
    },
    {
      "cell_type": "code",
      "source": [
        "# Set Variables\n",
        "ApiKey = \"457db507-dabb-4117-bcd2-c857c366f8c3\";\n",
        "DataPackage = \"VehicleData\";\n",
        "ResponseJSON = \"\";\n",
        "\n",
        "# Create payload dictionary\n",
        "Payload = {\n",
        "      \"v\" : 2, # Package version\n",
        "      \"api_nullitems\" : 1, # Return null items\n",
        "      \"key_vrm\" : '', # Vehicle registration mark\n",
        "      \"auth_apikey\" : ApiKey # Set the API Key\n",
        "      };\n",
        "\n",
        "Payload['key_vrm']='LL55YDd'\n",
        "\n",
        "# Create GET Request (Include payload & headers)\n",
        "r = requests.get('https://uk1.ukvehicledata.co.uk/api/datapackage/{}'.format(DataPackage), params = Payload)\n",
        "     \n",
        "# Response JSON Object\n",
        "ResponseJSON = r.json()\n",
        "\n",
        "car = r.json()\n",
        "car.keys()"
      ],
      "metadata": {
        "id": "cuEIOB9PUbMU",
        "colab": {
          "base_uri": "https://localhost:8080/"
        },
        "outputId": "b8606620-eb58-4704-cb7c-4ae9cbe6df34"
      },
      "execution_count": null,
      "outputs": [
        {
          "output_type": "execute_result",
          "data": {
            "text/plain": [
              "dict_keys(['BillingAccount', 'TechnicalSupport', 'Request', 'Response'])"
            ]
          },
          "metadata": {},
          "execution_count": 2
        }
      ]
    },
    {
      "cell_type": "code",
      "source": [
        "car['AuthenticationFailureDetails']['Reason']"
      ],
      "metadata": {
        "id": "NvzwgkTDWOE7",
        "colab": {
          "base_uri": "https://localhost:8080/",
          "height": 36
        },
        "outputId": "22d93a38-a85f-4f00-dbf9-c5e8e023d05d"
      },
      "execution_count": null,
      "outputs": [
        {
          "output_type": "execute_result",
          "data": {
            "text/plain": [
              "'Usage limit exceeded (ApiKey)'"
            ],
            "application/vnd.google.colaboratory.intrinsic+json": {
              "type": "string"
            }
          },
          "metadata": {},
          "execution_count": 23
        }
      ]
    },
    {
      "cell_type": "code",
      "source": [
        "r.status_code"
      ],
      "metadata": {
        "id": "8AIo2xCFEEnc",
        "colab": {
          "base_uri": "https://localhost:8080/"
        },
        "outputId": "97975a60-8401-4b2c-944c-1c3bfdd248f0"
      },
      "execution_count": null,
      "outputs": [
        {
          "output_type": "execute_result",
          "data": {
            "text/plain": [
              "401"
            ]
          },
          "metadata": {},
          "execution_count": 37
        }
      ]
    },
    {
      "cell_type": "code",
      "source": [],
      "metadata": {
        "id": "jw1wHBjh2vjm"
      },
      "execution_count": null,
      "outputs": []
    }
  ]
}